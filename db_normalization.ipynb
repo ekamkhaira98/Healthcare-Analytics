{
 "cells": [
  {
   "cell_type": "code",
   "execution_count": null,
   "id": "ec25c69d",
   "metadata": {},
   "outputs": [],
   "source": []
  },
  {
   "cell_type": "markdown",
   "id": "3f9d3028",
   "metadata": {},
   "source": [
    "# Using \"df_subset.csv\" (which is subset of actual data with an unique index number for different patients) for project, above you can find basic details about dataset. "
   ]
  },
  {
   "cell_type": "markdown",
   "id": "70e2f7ad",
   "metadata": {},
   "source": [
    "## Normalization of database"
   ]
  },
  {
   "cell_type": "code",
   "execution_count": null,
   "id": "2d8f1f48",
   "metadata": {},
   "outputs": [],
   "source": []
  },
  {
   "cell_type": "code",
   "execution_count": 1,
   "id": "18bdedee",
   "metadata": {},
   "outputs": [],
   "source": [
    "### Utility Functions\n",
    "import pandas as pd\n",
    "import sqlite3\n",
    "from sqlite3 import Error\n",
    "\n",
    "def create_connection(db_file, delete_db=False):\n",
    "    import os\n",
    "    if delete_db and os.path.exists(db_file):\n",
    "        os.remove(db_file)\n",
    "\n",
    "    conn = None\n",
    "    try:\n",
    "        conn = sqlite3.connect(db_file)\n",
    "        conn.execute(\"PRAGMA foreign_keys = 1\")\n",
    "    except Error as e:\n",
    "        print(e)\n",
    "\n",
    "    return conn\n",
    "\n",
    "\n",
    "def create_table(conn, create_table_sql, drop_table_name=None):\n",
    "    \n",
    "    if drop_table_name: # You can optionally pass drop_table_name to drop the table. \n",
    "        try:\n",
    "            c = conn.cursor()\n",
    "            c.execute(\"\"\"DROP TABLE IF EXISTS %s\"\"\" % (drop_table_name))\n",
    "        except Error as e:\n",
    "            print(e)\n",
    "    \n",
    "    try:\n",
    "        c = conn.cursor()\n",
    "        c.execute(create_table_sql)\n",
    "    except Error as e:\n",
    "        print(e)\n",
    "        \n",
    "def execute_sql_statement(sql_statement, conn):\n",
    "    cur = conn.cursor()\n",
    "    cur.execute(sql_statement)\n",
    "\n",
    "    rows = cur.fetchall()\n",
    "\n",
    "    return rows"
   ]
  },
  {
   "cell_type": "code",
   "execution_count": null,
   "id": "8423e157",
   "metadata": {},
   "outputs": [],
   "source": []
  },
  {
   "cell_type": "code",
   "execution_count": 2,
   "id": "e4dd7f26",
   "metadata": {},
   "outputs": [],
   "source": [
    "def create_data_dic(data_filename):\n",
    "    # custom made function\n",
    "    # Inputs: Name of the data \n",
    "    # Output: returns data dic with key as headers and rows for those headers as values\n",
    "\n",
    "    ### BEGIN SOLUTION\n",
    "    #reading csv file and adding lines to a list. The seprate used is \",\", please change if using on\n",
    "    # anyother file\n",
    "    header = ''\n",
    "    data = []\n",
    "    with open(data_filename, 'r') as file:\n",
    "        for lines in file:\n",
    "            if not lines.strip():\n",
    "                continue\n",
    "            if not header:\n",
    "                header=lines.split(',')\n",
    "                continue\n",
    "            data.append(lines.split(\",\"))\n",
    "\n",
    "    ## creating a dic for headers and data\n",
    "    data_dic = {}\n",
    "    for count1, i in enumerate(header):\n",
    "        inli = []\n",
    "        for count2,j in enumerate(data):\n",
    "            inli.append(j[count1].strip())\n",
    "        data_dic[i.strip()] = inli\n",
    "\n",
    "    return data_dic\n",
    "    ### END SOLUTION"
   ]
  },
  {
   "cell_type": "code",
   "execution_count": 3,
   "id": "d4aa7271",
   "metadata": {},
   "outputs": [],
   "source": [
    "data_filename = \"df_subset.csv\"\n",
    "normalized_database_filename = \"updated_normalized.db\""
   ]
  },
  {
   "cell_type": "code",
   "execution_count": null,
   "id": "e7adf1f0",
   "metadata": {},
   "outputs": [],
   "source": []
  },
  {
   "cell_type": "code",
   "execution_count": 31,
   "id": "2b7e289c",
   "metadata": {},
   "outputs": [],
   "source": [
    "data_dic = create_data_dic(data_filename)"
   ]
  },
  {
   "cell_type": "markdown",
   "id": "82b7c71e",
   "metadata": {},
   "source": [
    "Tables to be created are:\n",
    "\n",
    "* Program Category\n",
    "* Region Served\n",
    "* Sex\n",
    "* Living Situation\n",
    "* Education Status\n",
    "* Household Composition\n",
    "* Employment Status\n",
    "* Mental Illness\n",
    "* Base patient table\n"
   ]
  },
  {
   "cell_type": "code",
   "execution_count": null,
   "id": "2a2b3739",
   "metadata": {},
   "outputs": [],
   "source": []
  },
  {
   "cell_type": "code",
   "execution_count": 4,
   "id": "7dcf4789",
   "metadata": {},
   "outputs": [],
   "source": [
    "def step1_create_program_category_table(data_filename, normalized_database_filename):\n",
    "    # Inputs: Name of the data and normalized database filename\n",
    "    # Output: None\n",
    "    \n",
    "    ### BEGIN SOLUTION\n",
    "\n",
    "    #getting data from data file and storing in data_dic\n",
    "    data_dic = create_data_dic(data_filename)\n",
    "    \n",
    "    #taking out values from data_dic \n",
    "    pgm_catgrs = []\n",
    "    for line in data_dic[\"Program Category\"]:\n",
    "        if line not in pgm_catgrs:\n",
    "            pgm_catgrs.append(line)\n",
    "    pgm_catgrs.sort()\n",
    "        \n",
    "        \n",
    "    #creating DB connection\n",
    "    conn_norm = create_connection(normalized_database_filename)    \n",
    "    \n",
    "    #creating table schema in the db\n",
    "    create_table_sql = \"\"\"CREATE TABLE [ProgramCategory] (\n",
    "    [ProgramID] Integer not null primary key,\n",
    "    [Program] Text not null\n",
    "    );\n",
    "    \"\"\"\n",
    "    create_table(conn_norm, create_table_sql, \"ProgramCategory\")\n",
    "\n",
    "\n",
    "    def insert_values(conn, values):\n",
    "        sql = \"\"\"INSERT INTO ProgramCategory(Program)\n",
    "                    VALUES(?)\"\"\"\n",
    "        cur = conn.cursor()\n",
    "        cur.execute(sql, values)\n",
    "        return cur.lastrowid\n",
    "\n",
    "\n",
    "    with conn_norm:\n",
    "        for count in pgm_catgrs:\n",
    "            #print(count)\n",
    "            insert_values(conn_norm, (count,))\n",
    "\n",
    "    ### END SOLUTION\n",
    "\n"
   ]
  },
  {
   "cell_type": "code",
   "execution_count": 5,
   "id": "b8905656",
   "metadata": {},
   "outputs": [],
   "source": [
    "step1_create_program_category_table(data_filename, normalized_database_filename)"
   ]
  },
  {
   "cell_type": "code",
   "execution_count": null,
   "id": "0c57c656",
   "metadata": {},
   "outputs": [],
   "source": []
  },
  {
   "cell_type": "code",
   "execution_count": 6,
   "id": "93c89f4a",
   "metadata": {},
   "outputs": [],
   "source": [
    "def step1_create_program_to_programid_dictionary(normalized_database_filename):\n",
    "    conn = sqlite3.connect(normalized_database_filename)\n",
    "    sql_select_program=\"SELECT Program FROM ProgramCategory\"\n",
    "    programs = execute_sql_statement(sql_select_program, conn)\n",
    "    programs=list(map(lambda row: row[0].strip(), programs))\n",
    "    conn.close()\n",
    "    our_dict={}\n",
    "    count=1\n",
    "    for i in programs:\n",
    "        our_dict[i]=count\n",
    "        count+=1\n",
    "    return our_dict"
   ]
  },
  {
   "cell_type": "code",
   "execution_count": 7,
   "id": "271dfbee",
   "metadata": {},
   "outputs": [
    {
     "data": {
      "text/plain": [
       "{'EMERGENCY': 1,\n",
       " 'INPATIENT': 2,\n",
       " 'OUTPATIENT': 3,\n",
       " 'RESIDENTIAL': 4,\n",
       " 'SUPPORT': 5}"
      ]
     },
     "execution_count": 7,
     "metadata": {},
     "output_type": "execute_result"
    }
   ],
   "source": [
    "step1_create_program_to_programid_dictionary(normalized_database_filename)"
   ]
  },
  {
   "cell_type": "code",
   "execution_count": null,
   "id": "e041e551",
   "metadata": {},
   "outputs": [],
   "source": []
  },
  {
   "cell_type": "code",
   "execution_count": null,
   "id": "8e3b82b7",
   "metadata": {},
   "outputs": [],
   "source": []
  },
  {
   "cell_type": "code",
   "execution_count": null,
   "id": "90c46951",
   "metadata": {},
   "outputs": [],
   "source": []
  },
  {
   "cell_type": "code",
   "execution_count": 8,
   "id": "637e95ab",
   "metadata": {},
   "outputs": [],
   "source": [
    "def step2_create_regions_served_table(data_filename, normalized_database_filename):\n",
    "    # Inputs: Name of the data and normalized database filename\n",
    "    # Output: None\n",
    "    \n",
    "    ### BEGIN SOLUTION\n",
    "\n",
    "    #getting data from data file and storing in data_dic\n",
    "    data_dic = create_data_dic(data_filename)\n",
    "    \n",
    "    #taking out values from data_dic \n",
    "    unique_list = []\n",
    "    for line in data_dic[\"Region Served\"]:\n",
    "        if line not in unique_list:\n",
    "            unique_list.append(line)\n",
    "    unique_list.sort()\n",
    "        \n",
    "        \n",
    "    #creating DB connection\n",
    "    conn_norm = create_connection(normalized_database_filename)    \n",
    "    \n",
    "    #creating table schema in the db\n",
    "    create_table_sql = \"\"\"CREATE TABLE [RegionsServed] (\n",
    "    [RegionID] Integer not null primary key,\n",
    "    [Region] Text not null\n",
    "    );\n",
    "    \"\"\"\n",
    "    create_table(conn_norm, create_table_sql, \"RegionsServed\")\n",
    "\n",
    "\n",
    "    def insert_values(conn, values):\n",
    "        sql = \"\"\"INSERT INTO RegionsServed(Region)\n",
    "                    VALUES(?)\"\"\"\n",
    "        cur = conn.cursor()\n",
    "        cur.execute(sql, values)\n",
    "        return cur.lastrowid\n",
    "\n",
    "\n",
    "    with conn_norm:\n",
    "        for count in unique_list:\n",
    "            insert_values(conn_norm, (count,))\n",
    "\n",
    "    ### END SOLUTION\n",
    "\n"
   ]
  },
  {
   "cell_type": "code",
   "execution_count": 9,
   "id": "e3422d91",
   "metadata": {},
   "outputs": [],
   "source": [
    "step2_create_regions_served_table(data_filename, normalized_database_filename)"
   ]
  },
  {
   "cell_type": "code",
   "execution_count": null,
   "id": "38452e7d",
   "metadata": {},
   "outputs": [],
   "source": []
  },
  {
   "cell_type": "code",
   "execution_count": 10,
   "id": "2bb93f61",
   "metadata": {},
   "outputs": [],
   "source": [
    "def step2_create_region_to_regionid_dictionary(normalized_database_filename):\n",
    "    conn = sqlite3.connect(normalized_database_filename)\n",
    "    sql_select_region=\"SELECT Region FROM RegionsServed\"\n",
    "    regions = execute_sql_statement(sql_select_region, conn)\n",
    "    regions=list(map(lambda row: row[0].strip(), regions))\n",
    "    conn.close()\n",
    "    our_dict={}\n",
    "    count=1\n",
    "    for i in regions:\n",
    "        our_dict[i]=count\n",
    "        count+=1\n",
    "    return our_dict"
   ]
  },
  {
   "cell_type": "code",
   "execution_count": 11,
   "id": "25a22619",
   "metadata": {},
   "outputs": [
    {
     "data": {
      "text/plain": [
       "{'CENTRAL NY REGION': 1,\n",
       " 'HUDSON RIVER REGION': 2,\n",
       " 'LONG ISLAND REGION': 3,\n",
       " 'NEW YORK CITY REGION': 4,\n",
       " 'WESTERN REGION': 5}"
      ]
     },
     "execution_count": 11,
     "metadata": {},
     "output_type": "execute_result"
    }
   ],
   "source": [
    "step2_create_region_to_regionid_dictionary(normalized_database_filename)"
   ]
  },
  {
   "cell_type": "code",
   "execution_count": null,
   "id": "d19faea6",
   "metadata": {},
   "outputs": [],
   "source": []
  },
  {
   "cell_type": "code",
   "execution_count": null,
   "id": "525bd9e3",
   "metadata": {},
   "outputs": [],
   "source": []
  },
  {
   "cell_type": "code",
   "execution_count": null,
   "id": "0e175d28",
   "metadata": {},
   "outputs": [],
   "source": []
  },
  {
   "cell_type": "code",
   "execution_count": 12,
   "id": "c337e646",
   "metadata": {},
   "outputs": [],
   "source": [
    "def step3_create_sex_table(data_filename, normalized_database_filename):\n",
    "    # Inputs: Name of the data and normalized database filename\n",
    "    # Output: None\n",
    "    \n",
    "    ### BEGIN SOLUTION\n",
    "\n",
    "    #getting data from data file and storing in data_dic\n",
    "    data_dic = create_data_dic(data_filename)\n",
    "    \n",
    "    #taking out values from data_dic \n",
    "    unique_list = []\n",
    "    for line in data_dic[\"Sex\"]:\n",
    "        if line not in unique_list:\n",
    "            unique_list.append(line)\n",
    "    unique_list.sort()\n",
    "        \n",
    "        \n",
    "    #creating DB connection\n",
    "    conn_norm = create_connection(normalized_database_filename)    \n",
    "    \n",
    "    #creating table schema in the db\n",
    "    create_table_sql = \"\"\"CREATE TABLE [SexTable] (\n",
    "    [SexID] Integer not null primary key,\n",
    "    [SexValue] Text not null\n",
    "    );\n",
    "    \"\"\"\n",
    "    create_table(conn_norm, create_table_sql, \"SexTable\")\n",
    "\n",
    "\n",
    "    def insert_values(conn, values):\n",
    "        sql = \"\"\"INSERT INTO SexTable(SexValue)\n",
    "                    VALUES(?)\"\"\"\n",
    "        cur = conn.cursor()\n",
    "        cur.execute(sql, values)\n",
    "        return cur.lastrowid\n",
    "\n",
    "\n",
    "    with conn_norm:\n",
    "        for count in unique_list:\n",
    "            insert_values(conn_norm, (count,))\n",
    "\n",
    "    ### END SOLUTION"
   ]
  },
  {
   "cell_type": "code",
   "execution_count": 13,
   "id": "f2dd5319",
   "metadata": {},
   "outputs": [],
   "source": [
    "step3_create_sex_table(data_filename, normalized_database_filename)"
   ]
  },
  {
   "cell_type": "code",
   "execution_count": null,
   "id": "ba05e007",
   "metadata": {},
   "outputs": [],
   "source": []
  },
  {
   "cell_type": "code",
   "execution_count": 14,
   "id": "b4157026",
   "metadata": {},
   "outputs": [],
   "source": [
    "def step3_create_sex_to_sexid_dictionary(normalized_database_filename):\n",
    "    conn = sqlite3.connect(normalized_database_filename)\n",
    "    sql_select_sex=\"SELECT SexValue FROM SexTable\"\n",
    "    sexvalues = execute_sql_statement(sql_select_sex, conn)\n",
    "    sexvalues=list(map(lambda row: row[0].strip(), sexvalues))\n",
    "    conn.close()\n",
    "    our_dict={}\n",
    "    count=1\n",
    "    for i in sexvalues:\n",
    "        our_dict[i]=count\n",
    "        count+=1\n",
    "    return our_dict"
   ]
  },
  {
   "cell_type": "code",
   "execution_count": 15,
   "id": "3202572f",
   "metadata": {},
   "outputs": [
    {
     "data": {
      "text/plain": [
       "{'FEMALE': 1, 'MALE': 2, 'UNKNOWN': 3, 'X (NON-BINARY)': 4}"
      ]
     },
     "execution_count": 15,
     "metadata": {},
     "output_type": "execute_result"
    }
   ],
   "source": [
    "step3_create_sex_to_sexid_dictionary(normalized_database_filename)"
   ]
  },
  {
   "cell_type": "code",
   "execution_count": null,
   "id": "5765f905",
   "metadata": {},
   "outputs": [],
   "source": []
  },
  {
   "cell_type": "code",
   "execution_count": null,
   "id": "2787be95",
   "metadata": {},
   "outputs": [],
   "source": []
  },
  {
   "cell_type": "code",
   "execution_count": null,
   "id": "a4aed30f",
   "metadata": {},
   "outputs": [],
   "source": []
  },
  {
   "cell_type": "code",
   "execution_count": 16,
   "id": "9423b529",
   "metadata": {},
   "outputs": [],
   "source": [
    "def step4_living_sit_table(data_filename, normalized_database_filename):\n",
    "    # Inputs: Name of the data and normalized database filename\n",
    "    # Output: None\n",
    "    \n",
    "    ### BEGIN SOLUTION\n",
    "\n",
    "    #getting data from data file and storing in data_dic\n",
    "    data_dic = create_data_dic(data_filename)\n",
    "    \n",
    "    #taking out values from data_dic \n",
    "    unique_list = []\n",
    "    for line in data_dic[\"Living Situation\"]:\n",
    "        if line not in unique_list:\n",
    "            unique_list.append(line)\n",
    "    unique_list.sort()\n",
    "        \n",
    "        \n",
    "    #creating DB connection\n",
    "    conn_norm = create_connection(normalized_database_filename)    \n",
    "    \n",
    "    #creating table schema in the db\n",
    "    create_table_sql = \"\"\"CREATE TABLE [LivingSit] (\n",
    "    [LivingID] Integer not null primary key,\n",
    "    [Situation] Text not null\n",
    "    );\n",
    "    \"\"\"\n",
    "    create_table(conn_norm, create_table_sql, \"LivingSit\")\n",
    "\n",
    "\n",
    "    def insert_values(conn, values):\n",
    "        sql = \"\"\"INSERT INTO LivingSit(Situation)\n",
    "                    VALUES(?)\"\"\"\n",
    "        cur = conn.cursor()\n",
    "        cur.execute(sql, values)\n",
    "        return cur.lastrowid\n",
    "\n",
    "\n",
    "    with conn_norm:\n",
    "        for count in unique_list:\n",
    "            insert_values(conn_norm, (count,))\n",
    "\n",
    "    ### END SOLUTION"
   ]
  },
  {
   "cell_type": "code",
   "execution_count": 17,
   "id": "dc2ff001",
   "metadata": {},
   "outputs": [],
   "source": [
    "step4_living_sit_table(data_filename, normalized_database_filename)"
   ]
  },
  {
   "cell_type": "code",
   "execution_count": null,
   "id": "aaf38943",
   "metadata": {},
   "outputs": [],
   "source": []
  },
  {
   "cell_type": "code",
   "execution_count": 18,
   "id": "4982f906",
   "metadata": {},
   "outputs": [],
   "source": [
    "def step4_create_livingsitid_to_livingsit_dictionary(normalized_database_filename):\n",
    "    conn = sqlite3.connect(normalized_database_filename)\n",
    "    sql_select_living=\"SELECT Situation FROM LivingSit\"\n",
    "    livingsits = execute_sql_statement(sql_select_living, conn)\n",
    "    livingsits=list(map(lambda row: row[0].strip(), livingsits))\n",
    "    conn.close()\n",
    "    our_dict={}\n",
    "    count=1\n",
    "    for i in livingsits:\n",
    "        our_dict[i]=count\n",
    "        count+=1\n",
    "    return our_dict"
   ]
  },
  {
   "cell_type": "code",
   "execution_count": 19,
   "id": "4c0f4140",
   "metadata": {},
   "outputs": [
    {
     "data": {
      "text/plain": [
       "{'INSTITUTIONAL SETTING': 1,\n",
       " 'OTHER LIVING SITUATION': 2,\n",
       " 'PRIVATE RESIDENCE': 3,\n",
       " 'UNKNOWN': 4}"
      ]
     },
     "execution_count": 19,
     "metadata": {},
     "output_type": "execute_result"
    }
   ],
   "source": [
    "step4_create_livingsitid_to_livingsit_dictionary(normalized_database_filename)"
   ]
  },
  {
   "cell_type": "code",
   "execution_count": null,
   "id": "7a0e3816",
   "metadata": {},
   "outputs": [],
   "source": []
  },
  {
   "cell_type": "code",
   "execution_count": null,
   "id": "e71fd433",
   "metadata": {},
   "outputs": [],
   "source": []
  },
  {
   "cell_type": "code",
   "execution_count": null,
   "id": "e94fdb92",
   "metadata": {},
   "outputs": [],
   "source": []
  },
  {
   "cell_type": "code",
   "execution_count": 20,
   "id": "c2b76c78",
   "metadata": {},
   "outputs": [],
   "source": [
    "def step5_education_table(data_filename, normalized_database_filename):\n",
    "    # Inputs: Name of the data and normalized database filename\n",
    "    # Output: None\n",
    "    \n",
    "    ### BEGIN SOLUTION\n",
    "\n",
    "    #getting data from data file and storing in data_dic\n",
    "    data_dic = create_data_dic(data_filename)\n",
    "    \n",
    "    #taking out values from data_dic \n",
    "    unique_list = []\n",
    "    for line in data_dic[\"Education Status\"]:\n",
    "        if line not in unique_list:\n",
    "            unique_list.append(line)\n",
    "    unique_list.sort()\n",
    "        \n",
    "        \n",
    "    #creating DB connection\n",
    "    conn_norm = create_connection(normalized_database_filename)    \n",
    "    \n",
    "    #creating table schema in the db\n",
    "    create_table_sql = \"\"\"CREATE TABLE [Education] (\n",
    "    [EducationID] Integer not null primary key,\n",
    "    [Status] Text not null\n",
    "    );\n",
    "    \"\"\"\n",
    "    create_table(conn_norm, create_table_sql, \"Education\")\n",
    "\n",
    "\n",
    "    def insert_values(conn, values):\n",
    "        sql = \"\"\"INSERT INTO Education(Status)\n",
    "                    VALUES(?)\"\"\"\n",
    "        cur = conn.cursor()\n",
    "        cur.execute(sql, values)\n",
    "        return cur.lastrowid\n",
    "\n",
    "\n",
    "    with conn_norm:\n",
    "        for count in unique_list:\n",
    "            insert_values(conn_norm, (count,))\n",
    "\n",
    "    ### END SOLUTION"
   ]
  },
  {
   "cell_type": "code",
   "execution_count": 21,
   "id": "ab0c0a6b",
   "metadata": {},
   "outputs": [],
   "source": [
    "step5_education_table(data_filename, normalized_database_filename)"
   ]
  },
  {
   "cell_type": "code",
   "execution_count": null,
   "id": "5cc6e3f7",
   "metadata": {},
   "outputs": [],
   "source": []
  },
  {
   "cell_type": "code",
   "execution_count": 22,
   "id": "3d324e33",
   "metadata": {},
   "outputs": [],
   "source": [
    "def step5_create_Educationid_to_Eduation_dictionary(normalized_database_filename):\n",
    "    conn = sqlite3.connect(normalized_database_filename)\n",
    "    sql_select_education=\"SELECT Status FROM Education\"\n",
    "    edu = execute_sql_statement(sql_select_education, conn)\n",
    "    edu=list(map(lambda row: row[0].strip(), edu))\n",
    "    conn.close()\n",
    "    our_dict={}\n",
    "    count=1\n",
    "    for i in edu:\n",
    "        our_dict[i]=count\n",
    "        count+=1\n",
    "    return our_dict"
   ]
  },
  {
   "cell_type": "code",
   "execution_count": 23,
   "id": "93305891",
   "metadata": {},
   "outputs": [
    {
     "data": {
      "text/plain": [
       "{'COLLEGE OR GRADUATE DEGREE': 1,\n",
       " 'MIDDLE SCHOOL TO HIGH SCHOOL': 2,\n",
       " 'NO FORMAL EDUCATION': 3,\n",
       " 'OTHER': 4,\n",
       " 'PRE-K TO FIFTH GRADE': 5,\n",
       " 'SOME COLLEGE': 6,\n",
       " 'UNKNOWN': 7}"
      ]
     },
     "execution_count": 23,
     "metadata": {},
     "output_type": "execute_result"
    }
   ],
   "source": [
    "step5_create_Educationid_to_Eduation_dictionary(normalized_database_filename)"
   ]
  },
  {
   "cell_type": "code",
   "execution_count": null,
   "id": "40a514f6",
   "metadata": {},
   "outputs": [],
   "source": []
  },
  {
   "cell_type": "code",
   "execution_count": null,
   "id": "82801064",
   "metadata": {},
   "outputs": [],
   "source": []
  },
  {
   "cell_type": "code",
   "execution_count": null,
   "id": "cb1da96d",
   "metadata": {},
   "outputs": [],
   "source": []
  },
  {
   "cell_type": "code",
   "execution_count": 24,
   "id": "ab6b21b0",
   "metadata": {},
   "outputs": [],
   "source": [
    "def step6_household_table(data_filename, normalized_database_filename):\n",
    "    # Inputs: Name of the data and normalized database filename\n",
    "    # Output: None\n",
    "    \n",
    "    ### BEGIN SOLUTION\n",
    "\n",
    "    #getting data from data file and storing in data_dic\n",
    "    data_dic = create_data_dic(data_filename)\n",
    "    \n",
    "    #taking out values from data_dic \n",
    "    unique_list = []\n",
    "    for line in data_dic[\"Household Composition\"]:\n",
    "        if line not in unique_list:\n",
    "            unique_list.append(line)\n",
    "    unique_list.sort()\n",
    "        \n",
    "        \n",
    "    #creating DB connection\n",
    "    conn_norm = create_connection(normalized_database_filename)    \n",
    "    \n",
    "    #creating table schema in the db\n",
    "    create_table_sql = \"\"\"CREATE TABLE [Household] (\n",
    "    [HouseID] Integer not null primary key,\n",
    "    [Composition] Text not null\n",
    "    );\n",
    "    \"\"\"\n",
    "    create_table(conn_norm, create_table_sql, \"Household\")\n",
    "\n",
    "\n",
    "    def insert_values(conn, values):\n",
    "        sql = \"\"\"INSERT INTO Household(Composition)\n",
    "                    VALUES(?)\"\"\"\n",
    "        cur = conn.cursor()\n",
    "        cur.execute(sql, values)\n",
    "        return cur.lastrowid\n",
    "\n",
    "\n",
    "    with conn_norm:\n",
    "        for count in unique_list:\n",
    "            insert_values(conn_norm, (count,))\n",
    "\n",
    "    ### END SOLUTION"
   ]
  },
  {
   "cell_type": "code",
   "execution_count": 25,
   "id": "cb1b69f4",
   "metadata": {},
   "outputs": [],
   "source": [
    "step6_household_table(data_filename, normalized_database_filename)"
   ]
  },
  {
   "cell_type": "code",
   "execution_count": null,
   "id": "8a7063d8",
   "metadata": {},
   "outputs": [],
   "source": []
  },
  {
   "cell_type": "code",
   "execution_count": 26,
   "id": "5378de3c",
   "metadata": {},
   "outputs": [],
   "source": [
    "def step6_create_householdid_to_household_dictionary(normalized_database_filename):\n",
    "    conn = sqlite3.connect(normalized_database_filename)\n",
    "    sql_select_household=\"SELECT Composition FROM Household\"\n",
    "    households = execute_sql_statement(sql_select_household, conn)\n",
    "    households=list(map(lambda row: row[0].strip(), households))\n",
    "    conn.close()\n",
    "    our_dict={}\n",
    "    count=1\n",
    "    for i in households:\n",
    "        our_dict[i]=count\n",
    "        count+=1\n",
    "    return our_dict"
   ]
  },
  {
   "cell_type": "code",
   "execution_count": 27,
   "id": "dbbcede0",
   "metadata": {},
   "outputs": [
    {
     "data": {
      "text/plain": [
       "{'COHABITATES WITH OTHERS': 1,\n",
       " 'LIVES ALONE': 2,\n",
       " 'NOT APPLICABLE': 3,\n",
       " 'UNKNOWN': 4}"
      ]
     },
     "execution_count": 27,
     "metadata": {},
     "output_type": "execute_result"
    }
   ],
   "source": [
    "step6_create_householdid_to_household_dictionary(normalized_database_filename)"
   ]
  },
  {
   "cell_type": "code",
   "execution_count": null,
   "id": "aef2a4de",
   "metadata": {},
   "outputs": [],
   "source": []
  },
  {
   "cell_type": "code",
   "execution_count": null,
   "id": "5818b6c0",
   "metadata": {},
   "outputs": [],
   "source": []
  },
  {
   "cell_type": "code",
   "execution_count": null,
   "id": "2116b32d",
   "metadata": {},
   "outputs": [],
   "source": []
  },
  {
   "cell_type": "code",
   "execution_count": 28,
   "id": "83151600",
   "metadata": {},
   "outputs": [],
   "source": [
    "def step7_employment_table(data_filename, normalized_database_filename):\n",
    "    # Inputs: Name of the data and normalized database filename\n",
    "    # Output: None\n",
    "    \n",
    "    ### BEGIN SOLUTION\n",
    "\n",
    "    #getting data from data file and storing in data_dic\n",
    "    data_dic = create_data_dic(data_filename)\n",
    "    \n",
    "    #taking out values from data_dic \n",
    "    unique_list = []\n",
    "    for line in data_dic[\"Employment Status\"]:\n",
    "        if line not in unique_list:\n",
    "            unique_list.append(line)\n",
    "    unique_list.sort()\n",
    "        \n",
    "        \n",
    "    #creating DB connection\n",
    "    conn_norm = create_connection(normalized_database_filename)    \n",
    "    \n",
    "    #creating table schema in the db\n",
    "    create_table_sql = \"\"\"CREATE TABLE [Employment] (\n",
    "    [EmploymentID] Integer not null primary key,\n",
    "    [Status] Text not null\n",
    "    );\n",
    "    \"\"\"\n",
    "    create_table(conn_norm, create_table_sql, \"Employment\")\n",
    "\n",
    "\n",
    "    def insert_values(conn, values):\n",
    "        sql = \"\"\"INSERT INTO Employment(Status)\n",
    "                    VALUES(?)\"\"\"\n",
    "        cur = conn.cursor()\n",
    "        cur.execute(sql, values)\n",
    "        return cur.lastrowid\n",
    "\n",
    "\n",
    "    with conn_norm:\n",
    "        for count in unique_list:\n",
    "            insert_values(conn_norm, (count,))\n",
    "\n",
    "    ### END SOLUTION"
   ]
  },
  {
   "cell_type": "code",
   "execution_count": 29,
   "id": "cb433925",
   "metadata": {},
   "outputs": [],
   "source": [
    "step7_employment_table(data_filename, normalized_database_filename)"
   ]
  },
  {
   "cell_type": "code",
   "execution_count": null,
   "id": "49c94d79",
   "metadata": {},
   "outputs": [],
   "source": []
  },
  {
   "cell_type": "code",
   "execution_count": 30,
   "id": "5195d67d",
   "metadata": {},
   "outputs": [],
   "source": [
    "def step7_create_empid_to_emp_dictionary(normalized_database_filename):\n",
    "    conn = sqlite3.connect(normalized_database_filename)\n",
    "    sql_select_employment=\"SELECT Status FROM Employment\"\n",
    "    empstatus = execute_sql_statement(sql_select_employment, conn)\n",
    "    empstatus=list(map(lambda row: row[0].strip(), empstatus))\n",
    "    conn.close()\n",
    "    our_dict={}\n",
    "    count=1\n",
    "    for i in empstatus:\n",
    "        our_dict[i]=count\n",
    "        count+=1\n",
    "    return our_dict"
   ]
  },
  {
   "cell_type": "code",
   "execution_count": 31,
   "id": "228b68c0",
   "metadata": {},
   "outputs": [
    {
     "data": {
      "text/plain": [
       "{'EMPLOYED': 1,\n",
       " 'NON-PAID/VOLUNTEER': 2,\n",
       " 'NOT IN LABOR FORCE:UNEMPLOYED AND NOT LOOKING FOR WORK': 3,\n",
       " 'UNEMPLOYED: LOOKING FOR WORK': 4,\n",
       " 'UNKNOWN EMPLOYMENT STATUS': 5}"
      ]
     },
     "execution_count": 31,
     "metadata": {},
     "output_type": "execute_result"
    }
   ],
   "source": [
    "step7_create_empid_to_emp_dictionary(normalized_database_filename)"
   ]
  },
  {
   "cell_type": "code",
   "execution_count": null,
   "id": "ed09e68a",
   "metadata": {},
   "outputs": [],
   "source": []
  },
  {
   "cell_type": "code",
   "execution_count": null,
   "id": "07fbffdb",
   "metadata": {},
   "outputs": [],
   "source": []
  },
  {
   "cell_type": "code",
   "execution_count": null,
   "id": "3b53c38c",
   "metadata": {},
   "outputs": [],
   "source": []
  },
  {
   "cell_type": "code",
   "execution_count": 32,
   "id": "793ade8c",
   "metadata": {},
   "outputs": [],
   "source": [
    "def step8_mental_illness_table(data_filename, normalized_database_filename):\n",
    "    # Inputs: Name of the data and normalized database filename\n",
    "    # Output: None\n",
    "    \n",
    "    ### BEGIN SOLUTION\n",
    "\n",
    "    #getting data from data file and storing in data_dic\n",
    "    data_dic = create_data_dic(data_filename)\n",
    "    \n",
    "    #taking out values from data_dic \n",
    "    unique_list = []\n",
    "    for line in data_dic[\"Mental Illness\"]:\n",
    "        if line not in unique_list:\n",
    "            unique_list.append(line)\n",
    "    unique_list.sort()\n",
    "        \n",
    "    #creating DB connection\n",
    "    conn_norm = create_connection(normalized_database_filename)    \n",
    "    \n",
    "    #creating table schema in the db\n",
    "    create_table_sql = \"\"\"CREATE TABLE [MentalIllness] (\n",
    "    [IllnessID] Integer not null primary key,\n",
    "    [IllnessStatus] Text not null\n",
    "    );\n",
    "    \"\"\"\n",
    "    create_table(conn_norm, create_table_sql, \"MentalIllness\")\n",
    "\n",
    "\n",
    "    def insert_values(conn, values):\n",
    "        sql = \"\"\"INSERT INTO MentalIllness(IllnessStatus)\n",
    "                    VALUES(?)\"\"\"\n",
    "        cur = conn.cursor()\n",
    "        cur.execute(sql, values)\n",
    "        return cur.lastrowid\n",
    "\n",
    "\n",
    "    with conn_norm:\n",
    "        for count in unique_list:\n",
    "            insert_values(conn_norm, (count,))\n",
    "\n",
    "    ### END SOLUTION"
   ]
  },
  {
   "cell_type": "code",
   "execution_count": 33,
   "id": "0717566f",
   "metadata": {},
   "outputs": [],
   "source": [
    "step8_mental_illness_table(data_filename, normalized_database_filename)"
   ]
  },
  {
   "cell_type": "code",
   "execution_count": null,
   "id": "3f8e190c",
   "metadata": {},
   "outputs": [],
   "source": []
  },
  {
   "cell_type": "code",
   "execution_count": 34,
   "id": "a6ed187f",
   "metadata": {},
   "outputs": [],
   "source": [
    "def step8_create_illnessid_to_illness_dictionary(normalized_database_filename):\n",
    "    conn = sqlite3.connect(normalized_database_filename)\n",
    "    sql_select_Illness=\"SELECT IllnessStatus FROM MentalIllness\"\n",
    "    illness = execute_sql_statement(sql_select_Illness, conn)\n",
    "    illness=list(map(lambda row: row[0].strip(), illness))\n",
    "    conn.close()\n",
    "    our_dict={}\n",
    "    count=1\n",
    "    for i in illness:\n",
    "        our_dict[i]=count\n",
    "        count+=1\n",
    "    return our_dict"
   ]
  },
  {
   "cell_type": "code",
   "execution_count": 35,
   "id": "301d9904",
   "metadata": {},
   "outputs": [
    {
     "data": {
      "text/plain": [
       "{'NO': 1, 'UNKNOWN': 2, 'YES': 3}"
      ]
     },
     "execution_count": 35,
     "metadata": {},
     "output_type": "execute_result"
    }
   ],
   "source": [
    "step8_create_illnessid_to_illness_dictionary(normalized_database_filename)"
   ]
  },
  {
   "cell_type": "code",
   "execution_count": null,
   "id": "fc521598",
   "metadata": {},
   "outputs": [],
   "source": []
  },
  {
   "cell_type": "code",
   "execution_count": null,
   "id": "2f162ab3",
   "metadata": {},
   "outputs": [],
   "source": []
  },
  {
   "cell_type": "code",
   "execution_count": null,
   "id": "26ac1276",
   "metadata": {},
   "outputs": [],
   "source": []
  },
  {
   "cell_type": "code",
   "execution_count": 36,
   "id": "ee39cf90",
   "metadata": {},
   "outputs": [],
   "source": [
    "def step_9_patient_table(data_filename, normalized_database_filename):\n",
    "    \n",
    "    ### BEGIN SOLUTION\n",
    "    data_dic = create_data_dic(data_filename)\n",
    "    programs=step1_create_program_to_programid_dictionary(normalized_database_filename)\n",
    "    regions=step2_create_region_to_regionid_dictionary(normalized_database_filename)\n",
    "    sexvalues=step3_create_sex_to_sexid_dictionary(normalized_database_filename)\n",
    "    livingsits=step4_create_livingsitid_to_livingsit_dictionary(normalized_database_filename)\n",
    "    educations=step5_create_Educationid_to_Eduation_dictionary(normalized_database_filename)\n",
    "    households=step6_create_householdid_to_household_dictionary(normalized_database_filename)\n",
    "    empstatuses=step7_create_empid_to_emp_dictionary(normalized_database_filename)\n",
    "    illnesses=step8_create_illnessid_to_illness_dictionary(normalized_database_filename)\n",
    "    patients = []\n",
    "    \n",
    "    for i in range(len(data_dic[\"index\"])):\n",
    "        index=data_dic[\"index\"][i]\n",
    "        program=programs[data_dic[\"Program Category\"][i]]\n",
    "        region=regions[data_dic[\"Region Served\"][i]]\n",
    "        sex=sexvalues[data_dic[\"Sex\"][i]]\n",
    "        livingsit=livingsits[data_dic[\"Living Situation\"][i]]\n",
    "        edu=educations[data_dic[\"Education Status\"][i]]\n",
    "        household=households[data_dic[\"Household Composition\"][i]]\n",
    "        emp=empstatuses[data_dic[\"Employment Status\"][i]]\n",
    "        illness=illnesses[data_dic[\"Mental Illness\"][i]]\n",
    "        insert_tuple=(index,program,region,sex,livingsit,edu,household,emp,illness)\n",
    "        patients.append(insert_tuple)\n",
    "        \n",
    "        \n",
    "    #creating DB connection\n",
    "    conn_norm = create_connection(normalized_database_filename)    \n",
    "    \n",
    "    #creating table schema in the db\n",
    "    create_table_sql = \"\"\"CREATE TABLE [Patients] (\n",
    "    [PatientID] Integer not null primary key,\n",
    "    [ProgramID] Integer not null,\n",
    "    [RegionID] Integer not null,\n",
    "    [SexID] Integer not null,\n",
    "    [LivingID] Integer not null,\n",
    "    [EducationID] Integer not null,\n",
    "    [HouseID] Integer not null,\n",
    "    [EmploymentID] Integer not null,\n",
    "    [IllnessID] Integer not null,\n",
    "    FOREIGN KEY(ProgramID) REFERENCES ProgramCategory(ProgramID)\n",
    "    FOREIGN KEY(RegionID) REFERENCES RegionsServed(RegionID)\n",
    "    FOREIGN KEY(SexID) REFERENCES SexTable(SexID)\n",
    "    FOREIGN KEY(LivingID) REFERENCES LivingSit(LivingID)\n",
    "    FOREIGN KEY(EducationID) REFERENCES Education(EducationID)\n",
    "    FOREIGN KEY(HouseID) REFERENCES Household(HouseID)\n",
    "    FOREIGN KEY(EmploymentID) REFERENCES Employment(EmploymentID)\n",
    "    FOREIGN KEY(IllnessID) REFERENCES MentalIllness(IllnessID)\n",
    "    );\n",
    "    \"\"\"\n",
    "    \n",
    "    create_table(conn_norm, create_table_sql, \"Patients\")\n",
    "\n",
    "    sql_insert_patient = '''INSERT INTO Patients (PatientID, ProgramID, RegionID, SexID, LivingID, EducationID, HouseID, EmploymentID, IllnessID)\n",
    "            VALUES(?,?,?,?,?,?,?,?,?) '''\n",
    "    cur = conn_norm.cursor()\n",
    "    cur.executemany(sql_insert_patient,patients)\n",
    "    conn_norm.commit()\n",
    "    #sql_select_patients = ''' Select * from Patients'''\n",
    "    #patients_print = execute_sql_statement(sql_select_patients, conn_norm)\n",
    "    conn_norm.close()\n",
    "    ### END SOLUTION"
   ]
  },
  {
   "cell_type": "code",
   "execution_count": 37,
   "id": "13983f83",
   "metadata": {},
   "outputs": [],
   "source": [
    "step_9_patient_table(data_filename, normalized_database_filename)"
   ]
  },
  {
   "cell_type": "code",
   "execution_count": null,
   "id": "e9e6ea91",
   "metadata": {},
   "outputs": [],
   "source": []
  },
  {
   "cell_type": "code",
   "execution_count": null,
   "id": "b035c413",
   "metadata": {},
   "outputs": [],
   "source": []
  }
 ],
 "metadata": {
  "kernelspec": {
   "display_name": "Python 3 (ipykernel)",
   "language": "python",
   "name": "python3"
  },
  "language_info": {
   "codemirror_mode": {
    "name": "ipython",
    "version": 3
   },
   "file_extension": ".py",
   "mimetype": "text/x-python",
   "name": "python",
   "nbconvert_exporter": "python",
   "pygments_lexer": "ipython3",
   "version": "3.9.12"
  }
 },
 "nbformat": 4,
 "nbformat_minor": 5
}
